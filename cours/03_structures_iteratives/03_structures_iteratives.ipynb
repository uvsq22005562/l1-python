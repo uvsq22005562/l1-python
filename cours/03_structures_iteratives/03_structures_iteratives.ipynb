{
 "cells": [
  {
   "cell_type": "markdown",
   "metadata": {
    "slideshow": {
     "slide_type": "slide"
    }
   },
   "source": [
    "# Les structures itératives"
   ]
  },
  {
   "cell_type": "markdown",
   "metadata": {
    "slideshow": {
     "slide_type": "slide"
    }
   },
   "source": [
    "---\n",
    "## Structures itératives\n",
    "\n",
    "Une structure itérative (ou une boucle) est une **structure de contrôle** qui **répète** certaines lignes de code **jusqu'à ce qu'une condition déterminée soit satisfaite**.\n",
    "\n",
    "*Exemple :* On veut afficher *Programming is fun!* 100 fois.  Comment doit-on procéder ? \n",
    "    \n",
    "**!!** Il serait fastidieux de taper l'instruction 100 fois :\n",
    "    $$ \\mbox{100 fois :}    \\left\\{\n",
    "    \\begin{array}{l}\n",
<<<<<<< HEAD
    "        \\mbox{print(\"Programming is fun!\")}\\\\\n",
    "        \\mbox{print(\"Programming is fun!\")}\\\\\n",
    "        \\mbox{...}\\\\\n",
    "        \\mbox{print(\"Programming is fun!\")}\\\\\n",
=======
    "        \\mbox{print(\"Programmer c est cool!\")}\\\\\n",
    "        \\mbox{print(\"Programmer c est cool!\")}\\\\\n",
    "        \\mbox{...}\\\\\n",
    "        \\mbox{print(\"Programmer c est cool!\")}\\\\\n",
>>>>>>> 0e241ebee3e6dd3305bdb5ede220d7c42fe1a4e8
    "    \\end{array}\n",
    "\\right.$$\n",
    "\n",
    "Alors, comment résoudre ce problème ?\n",
    "        \n",
    "**$\\rightarrow$** Il suffit d'écrire un code en utilisant les boucles qui permet de répéter l'instruction d'affichage 100 fois. "
   ]
  },
  {
   "cell_type": "markdown",
   "metadata": {
    "slideshow": {
     "slide_type": "slide"
    }
   },
   "source": [
    "**Notez bien :**\n",
    "    \n",
    "* La notion d'itération est utilisée quand on doit exécuter le même traitement un certain nombre de fois de manière connue à l'avance ou non. \n",
    "\n",
    "* L'arrêt de l'itération est déclenché par une condition sur l’état des variables dans le script."
   ]
  },
  {
   "cell_type": "markdown",
   "metadata": {
    "slideshow": {
     "slide_type": "slide"
    }
   },
   "source": [
    "Deux formes de structures itératives : \n",
    "- **for**\n",
    "- **while** "
   ]
  },
  {
   "cell_type": "markdown",
   "metadata": {
    "slideshow": {
     "slide_type": "slide"
    }
   },
   "source": [
    "### La boucle for  \n",
    "\n",
<<<<<<< HEAD
    "La boucle for est une structure itérative qui exécute un bloc de code un **nombre prédéterminé** de fois.\n",
    "\n",
    "**Syntaxe :**\n",
    "    \n",
    "**for** *variable_name* **in** **range(*initial_value, end_value*)** **:**  \n",
=======
    "La boucle for est une structure itérative qui permet d'exécuter un bloc de code un **nombre prédéterminé** de fois.\n",
    "\n",
    "**Syntaxe :**\n",
    "    \n",
    "**for** *nom_variable* **in** **range(*valeur_initiale, valeur_de_fin*)** **:**  \n",
>>>>>>> 0e241ebee3e6dd3305bdb5ede220d7c42fe1a4e8
    "&nbsp;&nbsp; *action 1*     \n",
    "&nbsp;&nbsp; *action 2*  \n",
    "&nbsp;&nbsp; *...*  \n",
    "&nbsp;&nbsp; *action n*\n",
    "\n",
    "1. Mot clé **for**, suivi d'un espace  \n",
<<<<<<< HEAD
    "2. La **variable de contrôle** (*variable_name*) qui est utilisée pour vérifier si la boucle doit continuer à s'exécuter ou non.\n",
    "3. Mot clé **in**, suivi d'un espace  \n",
    "4. Mot clé **range(...)** qui représente une séquence d'éléments de données, commençant par une valeur initiale ***initial_value*** et se terminant par ***end_value***. La variable de contrôle prend les valeurs définies par **range(*initial_value, end_value*)**.\n",
=======
    "2. La **variable de contrôle** (*nom_variable*) qui est utilisée pour vérifier si la boucle doit continuer à s'exécuter ou non.\n",
    "3. Mot clé **in**, suivi d'un espace  \n",
    "4. Mot clé **range(...)** qui représente une séquence d'éléments de données, commençant par une valeur initiale ***valeur_initiale*** et se terminant par ***valeur_de_fin***. La variable de contrôle prend les valeurs définies par **range(*valeur_initiale, valeur_de_fin*)**.\n",
>>>>>>> 0e241ebee3e6dd3305bdb5ede220d7c42fe1a4e8
    "5. Nous terminons la ligne par un **deux-points (:)** \n",
    "6. Une ou plusieurs actions **indentées** qui seront exécutées d'une manière itérative. Les instructions dans le corps de la boucle sont exécutées une fois pour chaque valeur de la variable de contrôle."
   ]
  },
  {
   "cell_type": "markdown",
   "metadata": {
    "slideshow": {
     "slide_type": "slide"
    }
   },
   "source": [
    "**Attention !!** \n",
    "\n",
<<<<<<< HEAD
    "La fonction **range(*initial_value, end_value*)** **retourne** les valeurs suivantes :  \n",
    "* *initial_value*\n",
    "* *initial_value + 1* \n",
    "* *initial_value + 2*\n",
    "* *...*\n",
    "* *end_value - 2*\n",
    "* *end_value - 1*"
=======
    "La fonction **range(*valeur_initiale, valeur_de_fin*)** **retourne** les valeurs suivantes :  \n",
    "* *valeur_initiale*\n",
    "* *valeur_initiale + 1* \n",
    "* *valeur_initiale + 2*\n",
    "* *...*\n",
    "* *valeur_de_fin - 2*\n",
    "* *valeur_de_fin - 1*"
>>>>>>> 0e241ebee3e6dd3305bdb5ede220d7c42fe1a4e8
   ]
  },
  {
   "cell_type": "markdown",
   "metadata": {
    "slideshow": {
     "slide_type": "slide"
    }
   },
   "source": [
    "Exemple : Nous voulons écrire une boucle qui permet d'afficher les nombres de 1 à 10. Comment pouvons-nous faire cela ?"
   ]
  },
  {
   "cell_type": "code",
<<<<<<< HEAD
   "execution_count": 2,
   "metadata": {
    "slideshow": {
     "slide_type": "fragment"
    },
    "tags": []
   },
   "outputs": [
    {
     "output_type": "stream",
     "name": "stdout",
     "text": "Print out values in a range:\ni = 1\ni = 2\ni = 3\ni = 4\ni = 5\ni = 6\ni = 7\ni = 8\ni = 9\ni = 10\nFinished!\n"
    }
   ],
   "source": [
    "print('Print out values in a range:')\n",
    "for i in range(1, 11) :\n",
    "    print(\"i =\", i)\n",
    "print(\"Finished!\")"
=======
   "execution_count": null,
   "metadata": {
    "slideshow": {
     "slide_type": "fragment"
    }
   },
   "outputs": [],
   "source": [
    "print(\"Afficher les valeurs dans l'intervalle:\")\n",
    "for i in range(1, 11) :\n",
    "    print(\"i =\", i)\n",
    "print(\"Terminé\")"
>>>>>>> 0e241ebee3e6dd3305bdb5ede220d7c42fe1a4e8
   ]
  },
  {
   "cell_type": "markdown",
   "metadata": {
    "slideshow": {
     "slide_type": "fragment"
    }
   },
   "source": [
    "* Variable de contrôle : *i*\n",
<<<<<<< HEAD
    "* Première valeur de *i* = 1\n",
    "* La boucle vérifie si la valeur de *i* est égale au deuxième paramètre de la fonction **range()** (*end_value* = 11).\n",
=======
    "* Première valeur de *i* : 1\n",
    "* La boucle vérifie si la valeur de *i* est égale au deuxième paramètre de la fonction **range()** (*valeur_de_fin* = 11).\n",
>>>>>>> 0e241ebee3e6dd3305bdb5ede220d7c42fe1a4e8
    "* Si *i*  ne vaut pas 11, alors les instructions indentées s'exécutent \n",
    "* *i* s'incrémente automatiquement de 1 à chaque exécution de la boucle (à chaque itération)\n",
    "* La boucle s'arrête lorsque *i* est égale à 11. "
   ]
  },
  {
   "cell_type": "markdown",
   "metadata": {
    "slideshow": {
     "slide_type": "slide"
    }
   },
   "source": [
    "**!! Deux autres variantes existent pour la fonction *range()* :**\n",
<<<<<<< HEAD
    "* **range(*end_value*)**  \n",
    "* **range (*initial_value, end_value, step*)**\n",
=======
    "* **range(*valeur_de_fin*)**  \n",
    "* **range (*valeur_initiale, valeur_de_fin, increment*)**\n",
>>>>>>> 0e241ebee3e6dd3305bdb5ede220d7c42fe1a4e8
    "\n",
    "**Attention :**\n",
    "    \n",
    "Les valeurs de la fonction **range()** doivent être de type **entier**.  \n",
    "Par exemple, *range(1.5, 8.5)*, *range(8.5)*, or *range(1.5, 8.5, 1)* sont des appels de fonction incorrects."
   ]
  },
  {
   "cell_type": "markdown",
   "metadata": {
    "slideshow": {
     "slide_type": "slide"
    }
   },
   "source": [
<<<<<<< HEAD
    "La fonction **range(*end_value*)** est équivalente à la fonction **range(*0, end_value*)**.\n",
=======
    "La fonction **range(*valeur_de_fin*)** est équivalente à la fonction **range(*0, valeur_de_fin*)**.\n",
>>>>>>> 0e241ebee3e6dd3305bdb5ede220d7c42fe1a4e8
    "\n",
    "Exemple :"
   ]
  },
  {
   "cell_type": "code",
<<<<<<< HEAD
   "execution_count": 1,
   "metadata": {
    "slideshow": {
     "slide_type": "fragment"
    },
    "tags": []
   },
   "outputs": [
    {
     "output_type": "stream",
     "name": "stdout",
     "text": "Print out values in a range:\ni = 0\ni = 1\ni = 2\ni = 3\ni = 4\ni = 5\ni = 6\ni = 7\ni = 8\ni = 9\ni = 10\nFinished!\n"
    }
   ],
   "source": [
    "print('Print out values in a range:')\n",
    "for i in range(11) :\n",
    "    print(\"i =\", i)\n",
    "print(\"Finished!\")"
=======
   "execution_count": null,
   "metadata": {
    "slideshow": {
     "slide_type": "fragment"
    }
   },
   "outputs": [],
   "source": [
    "print('Afficher les valeurs dans l intervalle:')\n",
    "for i in range(11) :\n",
    "    print(\"i =\", i)\n",
    "print(\"Terminé\")"
>>>>>>> 0e241ebee3e6dd3305bdb5ede220d7c42fe1a4e8
   ]
  },
  {
   "cell_type": "markdown",
   "metadata": {
    "slideshow": {
     "slide_type": "slide"
    }
   },
   "source": [
<<<<<<< HEAD
    "Le paramètre *step* dans la fonction **range(*initial_value, end_value, step*)** est utilisé comme *pas d'avancement*. Il est facultatif, s'il est omis, le pas sera pris par défaut égal à 1.\n",
=======
    "Le paramètre *increment* dans la fonction **range(*valeur_initiale, valeur_de_fin, increment*)** est utilisé comme *pas d'avancement*. Il est facultatif, s'il est omis, le pas sera pris par défaut égal à 1.\n",
>>>>>>> 0e241ebee3e6dd3305bdb5ede220d7c42fe1a4e8
    "\n",
    "Exemples : "
   ]
  },
  {
   "cell_type": "code",
<<<<<<< HEAD
   "execution_count": 3,
   "metadata": {
    "slideshow": {
     "slide_type": "fragment"
    },
    "tags": []
   },
   "outputs": [
    {
     "output_type": "stream",
     "name": "stdout",
     "text": "Print out values in a range:\ni = 3\ni = 5\ni = 7\nFinished!\n"
    }
   ],
   "source": [
    "print('Print out values in a range:')\n",
    "for i in range(3, 9, 2) :\n",
    "    print(\"i =\", i)\n",
    "print(\"Finished!\")"
=======
   "execution_count": null,
   "metadata": {
    "slideshow": {
     "slide_type": "fragment"
    }
   },
   "outputs": [],
   "source": [
    "print('Afficher les valeurs dans l intervalle:')\n",
    "for i in range(3, 9, 2) :\n",
    "    print(\"i =\", i)\n",
    "print(\"Terminé\")"
>>>>>>> 0e241ebee3e6dd3305bdb5ede220d7c42fe1a4e8
   ]
  },
  {
   "cell_type": "code",
<<<<<<< HEAD
   "execution_count": 4,
   "metadata": {
    "slideshow": {
     "slide_type": "fragment"
    },
    "tags": []
   },
   "outputs": [
    {
     "output_type": "stream",
     "name": "stdout",
     "text": "Print out values in a range:\ni = 4\ni = 3\ni = 2\nFinished!\n"
    }
   ],
   "source": [
    "print('Print out values in a range:')\n",
    "for i in range(4, 1, -1) :\n",
    "    print(\"i =\", i)\n",
    "print(\"Finished!\")"
=======
   "execution_count": null,
   "metadata": {
    "slideshow": {
     "slide_type": "fragment"
    }
   },
   "outputs": [],
   "source": [
    "print('Afficher les valeurs dans l intervalle:')\n",
    "for i in range(4, 1, -1) :\n",
    "    print(\"i =\", i)\n",
    "print(\"Terminé\")\n",
    "help(range)"
>>>>>>> 0e241ebee3e6dd3305bdb5ede220d7c42fe1a4e8
   ]
  },
  {
   "cell_type": "markdown",
   "metadata": {
    "slideshow": {
     "slide_type": "slide"
    }
   },
   "source": [
    "Exécutons maintenant le code suivant. Que constatez-vous ?"
   ]
  },
  {
   "cell_type": "code",
<<<<<<< HEAD
   "execution_count": 5,
   "metadata": {
    "slideshow": {
     "slide_type": "fragment"
    },
    "tags": []
   },
   "outputs": [
    {
     "output_type": "stream",
     "name": "stdout",
     "text": "Before addition i = 1\nAfter addition i = 2\nBefore addition i = 4\nAfter addition i = 5\nBefore addition i = 7\nAfter addition i = 8\nBefore addition i = 10\nAfter addition i = 11\nLast value of i = 11\nFinished!\n"
    }
   ],
   "source": [
    "for i in range(1, 11, 3) :\n",
    "    print(\"Before addition i =\", i)\n",
    "    i += 1\n",
    "    print(\"After addition i =\", i)\n",
    "print(\"Last value of i =\", i)\n",
    "print(\"Finished!\")"
=======
   "execution_count": null,
   "metadata": {
    "slideshow": {
     "slide_type": "fragment"
    }
   },
   "outputs": [],
   "source": [
    "for i in range(1, 11, 3) :\n",
    "    print(\"Avant addition i =\", i)\n",
    "    i += 1\n",
    "    print(\"Après addition i =\", i)\n",
    "print(\"Dernière valeur, i =\", i)\n",
    "print(\"Terminé\")"
>>>>>>> 0e241ebee3e6dd3305bdb5ede220d7c42fe1a4e8
   ]
  },
  {
   "cell_type": "markdown",
   "metadata": {
    "slideshow": {
     "slide_type": "fragment"
    }
   },
   "source": [
    "**!! Le contenu de la boucle ne peut pas contrôler la boucle elle-même.**\n",
    "\n",
    "En modifiant la valeur de *i* dans le corps de la boucle, la valeur modifiée sera utilisée pour le reste de cette itération. Cependant, lorsque cette itération se termine, la valeur précédente de *i* est restaurée. "
   ]
  },
  {
   "cell_type": "markdown",
   "metadata": {
    "slideshow": {
     "slide_type": "slide"
    }
   },
   "source": [
    "Autre exemple : \n",
    "    \n",
    "On veut écrire un programme qui permet de calculer la somme de 1 à *n* où *n* est un nombre saisi par l'utilisateur. "
   ]
  },
  {
   "cell_type": "code",
<<<<<<< HEAD
   "execution_count": 6,
   "metadata": {
    "slideshow": {
     "slide_type": "fragment"
    },
    "tags": []
   },
   "outputs": [
    {
     "output_type": "stream",
     "name": "stdout",
     "text": "The sum is: 52326\n"
    }
   ],
   "source": [
    "n = int(input(\"Enter a number :\"))\n",
    "result = 0\n",
    "for i in range(1, n + 1):\n",
    "    result += i\n",
    "print(\"The sum is:\", result)"
=======
   "execution_count": null,
   "metadata": {
    "slideshow": {
     "slide_type": "fragment"
    }
   },
   "outputs": [],
   "source": [
    "n = int(input(\"Entrez un nombre :\"))\n",
    "result = 0\n",
    "for i in range(1, n + 1):\n",
    "    result += i\n",
    "print(\"La somme vaut :\", result)"
>>>>>>> 0e241ebee3e6dd3305bdb5ede220d7c42fe1a4e8
   ]
  },
  {
   "cell_type": "markdown",
   "metadata": {
    "slideshow": {
     "slide_type": "slide"
    }
   },
   "source": [
    "### La boucle *for* : autres variantes\n",
    "\n",
    "Exemple : "
   ]
  },
  {
   "cell_type": "code",
<<<<<<< HEAD
   "execution_count": 1,
=======
   "execution_count": null,
>>>>>>> 0e241ebee3e6dd3305bdb5ede220d7c42fe1a4e8
   "metadata": {
    "slideshow": {
     "slide_type": "fragment"
    }
   },
<<<<<<< HEAD
   "outputs": [
    {
     "output_type": "stream",
     "name": "stdout",
     "text": [
      "The average of [23, 43, 56, 22, 109, 34] = 47.833333333333336\n"
     ]
    }
   ],
   "source": [
    "list_of_numbers = [23, 43, 56, 22, 109, 34]\n",
    "sum = 0\n",
    "\n",
    "for number in list_of_numbers :\n",
    "    sum += number\n",
    "print(\"The average of\", list_of_numbers, \"=\", sum / len(list_of_numbers))"
=======
   "outputs": [],
   "source": [
    "liste_de_nombres = [23, 43, 56, 22, 109, 34]\n",
    "sum = 0\n",
    "\n",
    "for nb in liste_de_nombres :\n",
    "    sum += nb\n",
    "print(\"La moyenne de\", liste_de_nombres, \"vaut\", sum / len(liste_de_nombres))"
>>>>>>> 0e241ebee3e6dd3305bdb5ede220d7c42fe1a4e8
   ]
  },
  {
   "cell_type": "markdown",
   "metadata": {
    "slideshow": {
     "slide_type": "slide"
    }
   },
   "source": [
    "**A retenir :**\n",
    "\n",
    "* La boucle **for** est utilisée quand on veut faire un traitement sur un ensemble de données regroupées dans un objet."
   ]
  },
  {
   "cell_type": "markdown",
   "metadata": {
    "slideshow": {
     "slide_type": "slide"
    }
   },
   "source": [
    "**Et si on ne connaît pas à l’avance le nombre de fois que le traitement sera répété ?**\n",
    "\n",
    "$\\rightarrow$ Utilisation de la boucle **while** !!"
   ]
  },
  {
   "cell_type": "markdown",
   "metadata": {
    "slideshow": {
     "slide_type": "slide"
    }
   },
   "source": [
    "### La boucle while\n",
    "\n",
    "Une boucle **while** exécute d'une manière itérative des instructions tant qu'une condition reste **True**.\n",
    "\n",
    "**Syntaxe :**\n",
    "    \n",
<<<<<<< HEAD
    "**while** *loop-continuation-condition* **:**  \n",
=======
    "**while** *condition* **:**  \n",
>>>>>>> 0e241ebee3e6dd3305bdb5ede220d7c42fe1a4e8
    "&nbsp;&nbsp; *action 1*     \n",
    "&nbsp;&nbsp; *action 2*  \n",
    "&nbsp;&nbsp; *...*  \n",
    "&nbsp;&nbsp; *action n*\n",
    "\n",
    "1. Mot clé **while**, suivi d'un espace  \n",
<<<<<<< HEAD
    "2. Une **expression de contrôle** (*loop-continuation-condition*), expression booléenne, contrôle l'exécution de la boucle. **Cette expression\n",
=======
    "2. Une **expression de contrôle** (*condition*), expression booléenne, contrôle l'exécution de la boucle. **Cette expression\n",
>>>>>>> 0e241ebee3e6dd3305bdb5ede220d7c42fe1a4e8
    "est testée avant chaque itération.**\n",
    "3. Nous terminons la ligne par un **deux-points (:)** \n",
    "4. Une ou plusieurs actions **indentées** à répèter. Les instructions dans le corps de la boucle sont exécutées si l'expression de contrôle reste satisfaite (**True**)."
   ]
  },
  {
   "cell_type": "markdown",
   "metadata": {
    "slideshow": {
     "slide_type": "slide"
    }
   },
   "source": [
    "Exemple : "
   ]
  },
  {
   "cell_type": "code",
<<<<<<< HEAD
   "execution_count": 2,
=======
   "execution_count": null,
>>>>>>> 0e241ebee3e6dd3305bdb5ede220d7c42fe1a4e8
   "metadata": {
    "slideshow": {
     "slide_type": "fragment"
    }
   },
<<<<<<< HEAD
   "outputs": [
    {
     "output_type": "stream",
     "name": "stdout",
     "text": [
      "i = 1\ni = 2\ni = 3\ni = 4\ni = 5\ni = 6\ni = 7\ni = 8\ni = 9\nFinished!\n"
     ]
    }
   ],
=======
   "outputs": [],
>>>>>>> 0e241ebee3e6dd3305bdb5ede220d7c42fe1a4e8
   "source": [
    "i = 1\n",
    "while i < 10 : \n",
    "    print(\"i =\", i)\n",
    "    i = i + 1\n",
<<<<<<< HEAD
    "print(\"Finished!\")"
=======
    "print(\"Terminé\")"
>>>>>>> 0e241ebee3e6dd3305bdb5ede220d7c42fe1a4e8
   ]
  },
  {
   "cell_type": "markdown",
   "metadata": {
    "slideshow": {
     "slide_type": "fragment"
    }
   },
   "source": [
    "* La variable *i* est initialisée à 1\n",
<<<<<<< HEAD
    "* Puisque la condition (i > 10) est **True**, le programme entre dans la boucle et affiche la valeur de *i* (première itération).\n",
    "* La valeur de *i* s'incrémente automatiquement par 1, jusqu'à 10; tant que la condition est **True**. \n",
=======
    "* Puisque la condition (i < 10) est **True**, le programme entre dans la boucle et affiche la valeur de *i* (première itération).\n",
    "* La valeur de *i* s'incrémente par 1 (ligne 4), jusqu'à 10; tant que la condition est **True**. \n",
>>>>>>> 0e241ebee3e6dd3305bdb5ede220d7c42fe1a4e8
    "* Lorsque *i* vaut 10, et lors de la vérification de la condition de contrôle, la condition (i < 10) vaut **False** et donc la boucle se termine."
   ]
  },
  {
   "cell_type": "markdown",
   "metadata": {
    "slideshow": {
     "slide_type": "slide"
    }
   },
   "source": [
    "Quel est le résultat du code suivant ?"
   ]
  },
  {
   "cell_type": "code",
   "execution_count": null,
   "metadata": {
    "slideshow": {
     "slide_type": "fragment"
    }
   },
   "outputs": [],
   "source": [
    "sum = 0\n",
    "i = 1\n",
    "while i < 10:\n",
    "    sum = sum + i\n",
<<<<<<< HEAD
    "i = i + 1"
=======
    "i = i + 1  "
>>>>>>> 0e241ebee3e6dd3305bdb5ede220d7c42fe1a4e8
   ]
  },
  {
   "cell_type": "markdown",
   "metadata": {
    "slideshow": {
     "slide_type": "fragment"
    }
   },
   "source": [
<<<<<<< HEAD
    "Cette boucle est une boucle **infinie** !!\n",
    "* *i* vaut toujours 1 \n",
    "* i < 10 sera toujours **True**\n",
    "\n",
    "**!! Il faut inclure un code dans la boucle qui permet de modifier l'état de l'expression de contrôle**  \n",
    "**!! Il faut faire attention à l'indentation des instructions sous la boucle**"
=======
    "Que se passe t'il ici ?\n",
    "* *i* vaut toujours 1 \n",
    "* i < 10 sera toujours **True**\n",
    "\n",
    "**! Il faut inclure un code dans la boucle qui permet de modifier l'état de l'expression de contrôle**  \n",
    "**! Il faut faire attention à l'indentation des instructions sous la boucle**"
>>>>>>> 0e241ebee3e6dd3305bdb5ede220d7c42fe1a4e8
   ]
  },
  {
   "cell_type": "markdown",
   "metadata": {
    "slideshow": {
     "slide_type": "slide"
    }
   },
   "source": [
    "On veut écrire un script qui permet de générer aléatoirement un nombre compris entre 1 et 100, et ensuite demander à l'utilisateur de le deviner. \n",
    "Tant que l'utilisateur n'a pas réussi à deviner le nombre, le programme lui indique dans quelle direction il faut deviner. Ce jeu se poursuit jusqu'à la bonne réponse de l'utilisateur.\n",
    "\n",
    "**!!** La fonction **random.randint(min, max)** renvoie un entier aléatoire supérieur ou égal à **min** et inférieur ou égal à **max**."
   ]
  },
  {
   "cell_type": "code",
   "execution_count": null,
   "metadata": {
    "slideshow": {
     "slide_type": "fragment"
    }
   },
   "outputs": [],
   "source": [
    "# To random library: https://docs.python.org/3/library/random.html\n",
    "import random\n",
    "\n",
<<<<<<< HEAD
    "hidden_number = random.randint(1, 100)\n",
    "user_guess = 0\n",
    "\n",
    "while not user_guess == hidden_number :\n",
    "    user_guess = int(input(\"Enter a guess:\"))\n",
    "    if user_guess > hidden_number :\n",
    "        print(\"Too high!\")\n",
    "    elif user_guess < hidden_number :\n",
    "        print(\"Too low!\")\n",
    "    else :\n",
    "        print(\"That's right!\")"
=======
    "nombre_a_deviner = random.randint(1, 100)\n",
    "reponse_utilisateur = 0\n",
    "\n",
    "while not reponse_utilisateur == nombre_a_deviner :\n",
    "    reponse_utilisateur = int(input(\"Entrez un nombre:\"))\n",
    "    if reponse_utilisateur > nombre_a_deviner :\n",
    "        print(\"Trop grand!\")\n",
    "    elif reponse_utilisateur < nombre_a_deviner :\n",
    "        print(\"Trop petit!\")\n",
    "    else :\n",
    "        print(\"Bravo\")"
>>>>>>> 0e241ebee3e6dd3305bdb5ede220d7c42fe1a4e8
   ]
  },
  {
   "cell_type": "markdown",
   "metadata": {
    "slideshow": {
     "slide_type": "slide"
    }
   },
   "source": [
    "**Toute boucle *for* peut être écrite sous la forme d'une boucle *while*.**\n",
    "\n",
    "Exemple : "
   ]
  },
  {
   "cell_type": "code",
<<<<<<< HEAD
   "execution_count": 8,
=======
   "execution_count": null,
>>>>>>> 0e241ebee3e6dd3305bdb5ede220d7c42fe1a4e8
   "metadata": {
    "slideshow": {
     "slide_type": "fragment"
    }
   },
<<<<<<< HEAD
   "outputs": [
    {
     "output_type": "stream",
     "name": "stdout",
     "text": [
      "Programming is fun!\nProgramming is fun!\nProgramming is fun!\nProgramming is fun!\nProgramming is fun!\n"
     ]
    }
   ],
   "source": [
    "for i in range (1, 6) :\n",
    "    print('Programming is fun!')"
=======
   "outputs": [],
   "source": [
    "for i in range (1, 6) :\n",
    "    print('Programmer c est cool!')"
>>>>>>> 0e241ebee3e6dd3305bdb5ede220d7c42fe1a4e8
   ]
  },
  {
   "cell_type": "code",
<<<<<<< HEAD
   "execution_count": 9,
=======
   "execution_count": null,
>>>>>>> 0e241ebee3e6dd3305bdb5ede220d7c42fe1a4e8
   "metadata": {
    "slideshow": {
     "slide_type": "fragment"
    }
   },
<<<<<<< HEAD
   "outputs": [
    {
     "output_type": "stream",
     "name": "stdout",
     "text": [
      "Programming is fun!\nProgramming is fun!\nProgramming is fun!\nProgramming is fun!\nProgramming is fun!\n"
     ]
    }
   ],
   "source": [
    "i =  0 \n",
    "while (i < 5) :\n",
    "    print('Programming is fun!')\n",
=======
   "outputs": [],
   "source": [
    "i =  0 \n",
    "while (i < 5) :\n",
    "    print('Programmer c est cool!')\n",
>>>>>>> 0e241ebee3e6dd3305bdb5ede220d7c42fe1a4e8
    "    i += 1"
   ]
  },
  {
   "cell_type": "markdown",
   "metadata": {
    "slideshow": {
     "slide_type": "slide"
    }
   },
   "source": [
    "### Boucles imbriquées\n",
    "\n",
<<<<<<< HEAD
    "Exemple : Modifions le jeu de la devinette précédemment vu afin de permettre au joueur de décider à l'avance combien de fois il souhaite jouer."
=======
    "Exemple : Modifions le jeu de la devinette précédemment vue afin de permettre au joueur de décider à l'avance combien de fois il souhaite jouer."
>>>>>>> 0e241ebee3e6dd3305bdb5ede220d7c42fe1a4e8
   ]
  },
  {
   "cell_type": "code",
   "execution_count": null,
   "metadata": {
    "slideshow": {
     "slide_type": "fragment"
    }
   },
   "outputs": [],
   "source": [
    "import random\n",
    "\n",
<<<<<<< HEAD
    "nb_games = int(input(\"How many times would you like to play? \"))\n",
    "\n",
    "for i in range(0, nb_games) :\n",
    "    print(\"Game start!\")\n",
    "    \n",
    "    hidden_number = random.randint(1, 100)\n",
    "    user_guess = 0\n",
    "    \n",
    "    while not user_guess == hidden_number :\n",
    "        user_guess = int(input(\"Enter a guess:\"))\n",
    "        \n",
    "        if user_guess > hidden_number :\n",
    "            print(\"Too high!\")\n",
    "        elif user_guess < hidden_number :\n",
    "            print(\"Too low!\")\n",
    "        else :\n",
    "            print(\"That's right!\")"
=======
    "nb_jeu = int(input(\"Combien de fois vous voulez jouer? \"))\n",
    "\n",
    "for i in range(0, nb_jeu) :\n",
    "    print(\"Le Jeu démarre!\")\n",
    "    \n",
    "    nombre_a_deviner = random.randint(1, 100)\n",
    "    reponse_utilisateur = 0\n",
    "    \n",
    "    while not reponse_utilisateur == nombre_a_deviner :\n",
    "        reponse_utilisateur = int(input(\"Entrez une réponse:\"))\n",
    "        \n",
    "        if reponse_utilisateur > nombre_a_deviner :\n",
    "            print(\"Trop grand!\")\n",
    "        elif reponse_utilisateur < nombre_a_deviner :\n",
    "            print(\"Trop petit !\")\n",
    "        else :\n",
    "            print(\"Bravo!\")"
>>>>>>> 0e241ebee3e6dd3305bdb5ede220d7c42fe1a4e8
   ]
  },
  {
   "cell_type": "markdown",
   "metadata": {
    "slideshow": {
     "slide_type": "slide"
    }
   },
   "source": [
    "Que faire si l'utilisateur décide de poursuivre le jeu lorsque le jeu arrive à sa fin ?"
   ]
  },
  {
   "cell_type": "code",
   "execution_count": null,
   "metadata": {
    "slideshow": {
     "slide_type": "fragment"
    }
   },
   "outputs": [],
   "source": [
    "import random\n",
    "\n",
<<<<<<< HEAD
    "keep_playing = \"yes\"\n",
    "\n",
    "while keep_playing == \"yes\" :\n",
    "    print(\"Game start!\")\n",
    "    \n",
    "    hidden_number = random.randint(1, 100)\n",
    "    user_guess = 0\n",
    "    \n",
    "    while not user_guess == hidden_number :\n",
    "        user_guess = int(input(\"Enter a guess: \"))\n",
    "        \n",
    "        if user_guess > hidden_number :\n",
    "            print(\"Too high!\")\n",
    "        elif user_guess < hidden_number :\n",
    "            print(\"Too low!\")\n",
    "        else :\n",
    "            print(\"That's right!\")\n",
    "    keep_playing = input(\"Do you want to play again, (yes or no) \")"
=======
    "continuer_a_jouer = \"oui\"\n",
    "\n",
    "while continuer_a_jouer == \"oui\" :\n",
    "    print(\"Le Jeu démarre!\")\n",
    "    \n",
    "    nombre_a_deviner = random.randint(1, 100)\n",
    "    reponse_utilisateur = 0\n",
    "    \n",
    "    while not reponse_utilisateur == nombre_a_deviner :\n",
    "        reponse_utilisateur = int(input(\"Entrez un nombre: \"))\n",
    "        \n",
    "        if reponse_utilisateur > nombre_a_deviner :\n",
    "            print(\"Trop grand!\")\n",
    "        elif reponse_utilisateur < nombre_a_deviner :\n",
    "            print(\"Trop petit\")\n",
    "        else :\n",
    "            print(\"Bravo!\")\n",
    "    continuer_a_jouer = input(\"Voulez vous continuer à jouer ? (oui ou non) \")"
>>>>>>> 0e241ebee3e6dd3305bdb5ede220d7c42fe1a4e8
   ]
  },
  {
   "cell_type": "markdown",
   "metadata": {
    "slideshow": {
     "slide_type": "slide"
    }
   },
   "source": [
    "### D’autres outils de contrôle : *continue* et *break* \n",
    "\n",
    "* Le mot clé **continue** permet de passer prématurément à l'itération suivante de la boucle."
   ]
  },
  {
   "cell_type": "code",
<<<<<<< HEAD
   "execution_count": 12,
=======
   "execution_count": null,
>>>>>>> 0e241ebee3e6dd3305bdb5ede220d7c42fe1a4e8
   "metadata": {
    "slideshow": {
     "slide_type": "fragment"
    }
   },
<<<<<<< HEAD
   "outputs": [
    {
     "output_type": "stream",
     "name": "stdout",
     "text": [
      "1 is odd\n3 is odd\n5 is odd\n7 is odd\n9 is odd\n11 is odd\n13 is odd\n15 is odd\n17 is odd\n19 is odd\nFinished!\n"
     ]
    }
   ],
=======
   "outputs": [],
>>>>>>> 0e241ebee3e6dd3305bdb5ede220d7c42fe1a4e8
   "source": [
    "for i in range(1, 21) :\n",
    "    if i % 2 == 0 :\n",
    "        continue\n",
<<<<<<< HEAD
    "        print(\"any results?\")\n",
    "    print(i, \"is odd\")\n",
    "print(\"Finished!\") "
=======
    "        print(\"résultat?\")\n",
    "    print(i, \"est impair\")\n",
    "print(\"Terminé\") "
>>>>>>> 0e241ebee3e6dd3305bdb5ede220d7c42fe1a4e8
   ]
  },
  {
   "cell_type": "markdown",
   "metadata": {
    "slideshow": {
     "slide_type": "fragment"
    }
   },
   "source": [
    "* Le mot clé **break** permet de *casser* (arrêter) l’exécution d’une boucle et de passer à l’instruction suivante."
   ]
  },
  {
   "cell_type": "code",
<<<<<<< HEAD
   "execution_count": 13,
=======
   "execution_count": null,
>>>>>>> 0e241ebee3e6dd3305bdb5ede220d7c42fe1a4e8
   "metadata": {
    "slideshow": {
     "slide_type": "fragment"
    }
   },
<<<<<<< HEAD
   "outputs": [
    {
     "output_type": "stream",
     "name": "stdout",
     "text": [
      "1 is odd\nFinished!\n"
     ]
    }
   ],
=======
   "outputs": [],
>>>>>>> 0e241ebee3e6dd3305bdb5ede220d7c42fe1a4e8
   "source": [
    "for i in range(1, 21) :\n",
    "    if i % 2 == 0 :\n",
    "        break\n",
<<<<<<< HEAD
    "    print(i, \"is odd\")\n",
    "print(\"Finished!\") "
=======
    "    print(i, \"est impair\")\n",
    "print(\"Terminé\") "
>>>>>>> 0e241ebee3e6dd3305bdb5ede220d7c42fe1a4e8
   ]
  },
  {
   "cell_type": "markdown",
   "metadata": {
    "slideshow": {
     "slide_type": "slide"
    }
   },
   "source": [
    "**Questions :**\n",
    "* Quel est le résultat de ce code ?"
   ]
  },
  {
   "cell_type": "code",
<<<<<<< HEAD
   "execution_count": 14,
=======
   "execution_count": null,
>>>>>>> 0e241ebee3e6dd3305bdb5ede220d7c42fe1a4e8
   "metadata": {
    "slideshow": {
     "slide_type": "fragment"
    }
   },
<<<<<<< HEAD
   "outputs": [
    {
     "output_type": "stream",
     "name": "stdout",
     "text": [
      "0\n1\n2\n3\n"
     ]
    }
   ],
   "source": [
    "myCounter = 0\n",
    "while myCounter <= 3:\n",
    "    print(myCounter)\n",
    "    myCounter += 1"
=======
   "outputs": [],
   "source": [
    "cpt = 0\n",
    "while cpt <= 3:\n",
    "    print(cpt)\n",
    "    cpt += 1"
>>>>>>> 0e241ebee3e6dd3305bdb5ede220d7c42fe1a4e8
   ]
  },
  {
   "cell_type": "markdown",
   "metadata": {
    "slideshow": {
     "slide_type": "slide"
    }
   },
   "source": [
    "* Quel est le résultat de ce code ?"
   ]
  },
  {
   "cell_type": "code",
<<<<<<< HEAD
   "execution_count": 15,
=======
   "execution_count": null,
>>>>>>> 0e241ebee3e6dd3305bdb5ede220d7c42fe1a4e8
   "metadata": {
    "slideshow": {
     "slide_type": "fragment"
    }
   },
<<<<<<< HEAD
   "outputs": [
    {
     "output_type": "stream",
     "name": "stdout",
     "text": [
      "4\n3\n2\n1\n0\n"
     ]
    }
   ],
   "source": [
    "myCounter = 5\n",
    "while myCounter > 0:\n",
    "    myCounter -= 1\n",
    "    print(myCounter)"
=======
   "outputs": [],
   "source": [
    "cpt = 5\n",
    "while cpt > 0:\n",
    "    cpt -= 1\n",
    "    print(cpt)"
>>>>>>> 0e241ebee3e6dd3305bdb5ede220d7c42fe1a4e8
   ]
  },
  {
   "cell_type": "markdown",
   "metadata": {
    "slideshow": {
     "slide_type": "slide"
    }
   },
   "source": [
    "* Quel est le résultat de ce code ?"
   ]
  },
  {
   "cell_type": "code",
<<<<<<< HEAD
   "execution_count": 19,
=======
   "execution_count": null,
>>>>>>> 0e241ebee3e6dd3305bdb5ede220d7c42fe1a4e8
   "metadata": {
    "slideshow": {
     "slide_type": "fragment"
    }
   },
<<<<<<< HEAD
   "outputs": [
    {
     "output_type": "stream",
     "name": "stdout",
     "text": [
      "0 \n0 \n1 \n0 \n1 \n2 \n0 \n1 \n2 \n3 \n0 \n1 \n2 \n3 \n4 \n"
     ]
    }
   ],
=======
   "outputs": [],
>>>>>>> 0e241ebee3e6dd3305bdb5ede220d7c42fe1a4e8
   "source": [
    "for i in range(1, 6):\n",
    "    j = 0\n",
    "    while j < i:\n",
    "        print(j, end = \" \")\n",
    "        j += 1\n",
<<<<<<< HEAD
    "        print(\"\")"
=======
    "    print(\"\")"
>>>>>>> 0e241ebee3e6dd3305bdb5ede220d7c42fe1a4e8
   ]
  },
  {
   "cell_type": "code",
<<<<<<< HEAD
   "execution_count": 8,
   "metadata": {},
   "outputs": [
    {
     "output_type": "stream",
     "name": "stdout",
     "text": [
      "0\n0\n1\n0\n1\n2\n0\n1\n2\n3\n0\n1\n2\n3\n4\n"
     ]
    }
   ],
   "source": [
    "for i in range(1, 6):\n",
    "    j = 0\n",
    "    while j < i:\n",
    "        print(j)\n",
    "        j += 1"
   ]
=======
   "execution_count": null,
   "metadata": {},
   "outputs": [],
   "source": []
>>>>>>> 0e241ebee3e6dd3305bdb5ede220d7c42fe1a4e8
  },
  {
   "cell_type": "code",
   "execution_count": null,
   "metadata": {},
   "outputs": [],
   "source": []
  }
 ],
 "metadata": {
  "celltoolbar": "Diaporama",
  "kernelspec": {
   "display_name": "Python 3",
   "language": "python",
   "name": "python3"
  },
  "language_info": {
   "codemirror_mode": {
    "name": "ipython",
    "version": 3
   },
   "file_extension": ".py",
   "mimetype": "text/x-python",
   "name": "python",
   "nbconvert_exporter": "python",
   "pygments_lexer": "ipython3",
<<<<<<< HEAD
   "version": "3.8.5-final"
=======
   "version": "3.7.6"
>>>>>>> 0e241ebee3e6dd3305bdb5ede220d7c42fe1a4e8
  }
 },
 "nbformat": 4,
 "nbformat_minor": 4
<<<<<<< HEAD
}
=======
}
>>>>>>> 0e241ebee3e6dd3305bdb5ede220d7c42fe1a4e8
