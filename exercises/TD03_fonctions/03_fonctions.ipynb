{
 "cells": [
  {
   "cell_type": "markdown",
   "metadata": {},
   "source": [
    "# Instructions Générales\n",
    "\n",
    "Ce TD est à faire en créant un fichier td3.py, que vous éditerez dans VSCode. \n",
    "Vous ne remplirez pas les cellules de ce notebook, mais vous les copierez au fur et à mesure \n",
    "dans votre fichier pour les compléter.\n",
    "\n",
    "Vous respecterez au mieux les règles d'écriture de code, en particulier chaque fonction devra avoir un **docstring** et des commentaires si nécessaire et les noms de variable seront illustratifs de leur usage. Vous utiliserez les outils de débogage (flake8, mypy, debugger, pythontutor ...) pour corriger vos bogues."
   ]
  },
  {
   "cell_type": "markdown",
   "metadata": {},
   "source": [
    "# Gestion du temps\n",
    "\n",
    "Nous allons créer un petit logiciel de gestion du temps et des dates.\n",
    "Pour cela nous aurons besoin de créer un certain nombre de fonctions utilitaires.\n",
    "\n",
    "Un temps a le format suivant: (jour: int, heure: int, minute: int, seconde: int).\n",
    "C'est un tuple de 4 éléments. Par exemple (4,3,13,20) correspond à 4 jours, 3 heures, 13 minutes et 20 secondes.\n",
    "Si on une variable temps = (4,3,13,20), pour accéder au premier élément on fait temps\\[0\\] ce qui donne 4,\n",
    "le nombre de jours.\n",
    "\n",
    "Créer la fonction qui prend comme argument le temps et renvoie le nombre de seconde total correspondant à ce temps.\n",
    "Créer la fonction qui prend un nombre de secondes et renvoie le temps correspondante."
   ]
  },
  {
   "cell_type": "code",
   "execution_count": 214,
   "metadata": {},
   "outputs": [
    {
     "output_type": "stream",
     "name": "stdout",
     "text": [
      "<class 'tuple'>\n342094\n3 jours 23 heures 1 minutes 34 secondes\n"
     ]
    }
   ],
   "source": [
    "#temps[0] : jours, temps[1]: minutes, temps[2]: minutes, temps[3]: secondes\n",
    "def tempsEnSeconde(temps):\n",
    "    \"\"\" Renvoie la valeur en seconde de temps donné comme\n",
    "        jour, heure, minute, seconde.\"\"\"\n",
    "\n",
    "    jours = temps[0] * 86400\n",
    "    heures = temps[1] * 3600\n",
    "    minutes = temps[2] * 60\n",
    "    secondes = temps[3]\n",
    "    return jours + heures + minutes + secondes\n",
    "\n",
    "\n",
    "temps = (3, 23, 1, 34)\n",
    "print(type(temps))\n",
    "print(tempsEnSeconde(temps))\n",
    "\n",
    "\n",
    "def secondeEnTemps(seconde):\n",
    "    \"\"\"Renvoie le temps (jour, heure, minute, seconde) qui correspond\n",
    "        au nombre de seconde passé en argument\"\"\"\n",
    "\n",
    "    jours = seconde // 86400\n",
    "    heures = seconde // 3600 % 24\n",
    "    minutes = seconde // 60 % 60\n",
    "    return jours, heures, minutes, seconde % 60\n",
    "\n",
    "\n",
    "temps = secondeEnTemps(342094)\n",
    "print(temps[0], \"jours\",\n",
    "                temps[1], \"heures\",\n",
    "                temps[2], \"minutes\",\n",
    "                temps[3], \"secondes\")"
   ]
  },
  {
   "cell_type": "markdown",
   "metadata": {},
   "source": [
    "Créer un fonction d'affichage d'un temps `afficheTemps`. Attention, les mots jour, heure et seconde doivent être au pluriel s'il y en a plusieurs. S'il y en a zéro, ils ne doivent pas apparaître.\n",
    "`print(message, end=\"\")` permet de ne pas sauter une ligne après un print. \n",
    "Vous pouvez écrire une fonction qui affiche un mot au pluriel ou non, appelée ensuite plusieurs fois par `afficheTemps` pour simplifier votre code.\n"
   ]
  },
  {
   "cell_type": "code",
   "execution_count": 3,
   "metadata": {},
   "outputs": [
    {
     "output_type": "stream",
     "name": "stdout",
     "text": [
      "1 jour 0 heure 14 minutes 23 secondes "
     ]
    }
   ],
   "source": [
    "#fonction auxiliaire ici\n",
    "def pluriel(mot, nombre_mot):\n",
    "    if nombre_mot > 1 :\n",
    "        mot += \"s\"\n",
    "    return mot\n",
    "def afficheTemps(temps):\n",
    "    print(temps[0], pluriel(\"jour\", temps[0]), end=\" \")\n",
    "    print(temps[1], pluriel(\"heure\", temps[1]), end=\" \")\n",
    "    print(temps[2], pluriel(\"minute\", temps[2]), end=\" \")\n",
    "    print(temps[3], pluriel(\"seconde\", temps[3]), end=\" \")\n",
    "afficheTemps((1,0,14,23))    "
   ]
  },
  {
   "cell_type": "markdown",
   "metadata": {},
   "source": [
    "Ecrire une fonction qui demande à l'utilisateur de rentrer un nombre de jours, d'heures, de minutes et\n",
    "de secondes et qui renvoie un temps. Attention, si l'entrée utilisateur n'est pas correcte, par exemple 80 minutes,\n",
    "afficher un message d'erreur et s'arrêter.\n",
    "\n",
    "(Optionnel) Au lieu d'arêter le programme, demander de rentrer une nouvelle valeur, tant que \n",
    "ce n'est pas une valeur correcte."
   ]
  },
  {
   "cell_type": "code",
   "execution_count": 4,
   "metadata": {},
   "outputs": [
    {
     "output_type": "stream",
     "name": "stdout",
     "text": [
      "1 jour 1 heure 1 minute 1 seconde "
     ]
    }
   ],
   "source": [
    "def demandeTemps():\n",
    "    jours = int(input(\"veuillez entrer le nombre de jours\"))\n",
    "    heures = int(input(\"veuillez entrer le nombre d'heures\"))\n",
    "    minutes = int(input(\"veuillez entrer le nombre de minutes\"))\n",
    "    secondes = int(input(\"veuillez entrer le nombre de minutes\"))\n",
    "\n",
    "    while jours <  0 :\n",
    "        jours = int(input(\"veuillez entrer un nombre de jour correct\"))\n",
    "\n",
    "    while heures >=  24 or heures < 0 :\n",
    "        heures = int(input(\"veuillez entrer un nombre d'heures correct\"))\n",
    "\n",
    "    while minutes >= 60 or minutes < 0 :\n",
    "        minutes = int(input(\"veuillez entrer un nombre de minutes correct\"))\n",
    "\n",
    "    while secondes >=  60 or secondes < 0 :\n",
    "        secondes = int(input(\"veuillez entrer un nombre de secondes correct\"))\n",
    "    \n",
    "    return (jours, heures, minutes, secondes)\n",
    "\n",
    "afficheTemps(demandeTemps())\n"
   ]
  },
  {
   "cell_type": "markdown",
   "metadata": {},
   "source": [
    "On veut être capable d'additionner deux temps. Donner une fonction qui fait ce calcul,\n",
    "en utilisant les fonctions précédentes."
   ]
  },
  {
   "cell_type": "code",
   "execution_count": 5,
   "metadata": {},
   "outputs": [
    {
     "output_type": "stream",
     "name": "stdout",
     "text": [
      "8 jours 2 heures 1 minute 26 secondes "
     ]
    }
   ],
   "source": [
    "def sommeTemps(temps1,temps2):\n",
    "    result = [0,0,0,0]\n",
    "    for i in range(0,4):\n",
    "        result[i] = temps1[i] + temps2[i]\n",
    "\n",
    "    if result[3] >= 60 :\n",
    "        result[2] += result[3] // 60\n",
    "        result[3] %= 60\n",
    "    if result[2] >= 60 :\n",
    "        result[1] += result[2] // 60\n",
    "        result[2] %= 60 \n",
    "    if result[1] >= 24 :\n",
    "        result[0] += result[1] // 24\n",
    "        result[1] %= 24\n",
    "    return result\n",
    "\n",
    "afficheTemps(sommeTemps((2,3,4,25),(5,22,57,1)))"
   ]
  },
  {
   "cell_type": "markdown",
   "metadata": {},
   "source": [
    "On veut maintenant calculer un pourcentage d'un temps. Par exemple, 20% de\n",
    "2 jours et 36 minutes correspond à 9 heures, 43 minutes et 12 secondes.\n",
    "\n",
    "Implémenter la fonction `proportionTemps` puis appeler cette fonction en échangeant l'ordre des arguments mais en les nommant."
   ]
  },
  {
   "cell_type": "code",
   "execution_count": 6,
   "metadata": {},
   "outputs": [
    {
     "output_type": "stream",
     "name": "stdout",
     "text": [
      "0.0 jour 9.0 heures 43.0 minutes 12.0 secondes "
     ]
    }
   ],
   "source": [
    "def proportionTemps(temps,proportion):\n",
    "    secondes = tempsEnSeconde(temps)\n",
    "    secondes = secondes * proportion / 100\n",
    "    return secondeEnTemps(secondes)\n",
    "\n",
    "\n",
    "\n",
    "afficheTemps(proportionTemps((2,0,36,0),20))\n",
    "#appeler la fonction en échangeant l'ordre des arguments"
   ]
  },
  {
   "cell_type": "markdown",
   "metadata": {},
   "source": [
    "On veut maintenant afficher un temps sous forme de date, en supposant \n",
    "que le temps 0 est le 1 janvier 1970 à 00:00:00.\n",
    "\n",
    "* Implémenter une fonction `tempsEnDate`qui donne la date sous la forme (année, jour, heure, minute, seconde).\n",
    "* Implémenter la fonction `afficheDate`qui affiche la date. \n",
    "* (Optionnel) Gérer également les mois."
   ]
  },
  {
   "cell_type": "code",
   "execution_count": 219,
   "metadata": {},
   "outputs": [
    {
     "output_type": "stream",
     "name": "stdout",
     "text": [
      "l'année est 5142 et le mois est 5\n26 jours 2 heures 6 minutes 40 secondes "
     ]
    }
   ],
   "source": [
    "def tempsEnDate(temps):\n",
    "    \"\"\"temps en (année, mois, jours, heures, minutes, secondes)\"\"\"\n",
    "    return (1970 + temps[0] // 365,\n",
    "            temps[0] % 365 // 30,\n",
    "            temps[0] % 30, \n",
    "            temps[1],\n",
    "            temps[2],\n",
    "            temps[3])\n",
    "\n",
    "def afficheDate(date = -1):\n",
    "    if date == -1 :\n",
    "        pass\n",
    "        return\n",
    "    def afficheAnnee(date):\n",
    "        return \"l'année est \" + str(date[0])\n",
    "    \n",
    "    def afficheMois(date):\n",
    "        return \" et le mois est \" + str(date[1])\n",
    "\n",
    "    print(afficheAnnee(date) + afficheMois(date))\n",
    "    afficheTemps((date[2], date[3], date[4], date[5]))\n",
    "    \n",
    "temps = secondeEnTemps(100045678000)\n",
    "afficheDate(tempsEnDate(temps))"
   ]
  },
  {
   "cell_type": "markdown",
   "metadata": {},
   "source": [
    "Il existe des fonctions dans la librairie `time` pour la gestion du temps. En particulier, il existe\n",
    "une fonction `time` qui donne le temps écoulé depuis 1970 en secondes. \n",
    "La trouver avec la [documentation python](https://docs.python.org/fr/3/library/time.html#module-time) et la tester en utilisant `afficheDate`. \n",
    "Tester de la même manière la fonction `time.gmtime` qui réalise une tâche similaire à `tempsEnDate`.\n",
    "Que constatez vous ?"
   ]
  },
  {
   "cell_type": "code",
   "execution_count": 170,
   "metadata": {},
   "outputs": [
    {
     "output_type": "stream",
     "name": "stdout",
     "text": [
      "l'année est 2020 et le mois est octobre\n15 jours 9 heures 3 minutes 15 secondes ========\ntime.struct_time(tm_year=2020, tm_mon=10, tm_mday=15, tm_hour=9, tm_min=3, tm_sec=15, tm_wday=3, tm_yday=289, tm_isdst=0)\n"
     ]
    }
   ],
   "source": [
    "import time\n",
    "#tester ici les fonctions de la librairie time\n",
    "afficheDate(time.gmtime())\n",
    "print(\"========\")\n",
    "print(time.gmtime())\n",
    "# notre fonction ne marche pas de ouf, en effet, toutes les années ne font pas 360 jours, et tout les mois ne font pas 30 jours"
   ]
  },
  {
   "cell_type": "markdown",
   "metadata": {},
   "source": [
    "Attention, tous les 4 ans les années sont bisextiles (un jour de plus) sauf les multiples de 100 qui ne sont pas des multiples de 400.\n",
    "Donner un code qui prend un nombre de jours et affiche toutes les années bisextiles depuis 1 janvier 2020 à 00:00:00 jusqu'à la fin de ces jours."
   ]
  },
  {
   "cell_type": "code",
   "execution_count": 165,
   "metadata": {},
   "outputs": [
    {
     "output_type": "stream",
     "name": "stdout",
     "text": [
      "de 2020 à 2027 les années :\n1972\n1976\n1980\n1984\n1988\n1992\n1996\n2000\n2004\n2008\n2012\n2016\n2020\n2024\nsont bisextiles\n"
     ]
    }
   ],
   "source": [
    "def bisextile(jour):\n",
    "    seconde = jour * 86400\n",
    "    annee = tempsEnDate(secondeEnTemps(seconde))[0]\n",
    "    print(\"de 2020 à\", annee, \"les années :\")\n",
    "\n",
    "    for i in range(1970, annee, 1):\n",
    "        if i % 4 == 0 and i % 100 != 0 or i % 400 == 0 :\n",
    "            print(i)\n",
    "    print(\"sont bisextiles\")\n",
    "\n",
    "bisextile(21000)"
   ]
  },
  {
   "cell_type": "markdown",
   "metadata": {},
   "source": [
    "Implémenter une fonction `nombreBisextile` qui calcule le nombre d'années bisextiles pour un nombre de jour donnés pour corriger votre fonction de calcul de la date."
   ]
  },
  {
   "cell_type": "code",
   "execution_count": 220,
   "metadata": {},
   "outputs": [
    {
     "output_type": "stream",
     "name": "stdout",
     "text": [
      "12\n18550\n18538\nl'année est 2020 et le mois est 9\n28 jours 8 heures 24 minutes 55 secondes "
     ]
    }
   ],
   "source": [
    "def nombreBisextile(jour):\n",
    "    seconde = jour * 86400\n",
    "    annee = tempsEnDate(secondeEnTemps(seconde))[0]\n",
    "    bisextile = 0\n",
    "    for i in range(1970, annee, 1):\n",
    "        if i % 4 == 0 and i % 100 != 0 or i % 400 == 0 :\n",
    "            bisextile += 1\n",
    "    return bisextile\n",
    "\n",
    "def tempsEnDateBisextile(temps):\n",
    "    bisextile = nombreBisextile(temps[0])\n",
    "    jours = temps[0] - bisextile\n",
    "    \n",
    "    return (1970 + jours // 365,\n",
    "            jours % 365 // 30,\n",
    "            jours % 30, \n",
    "            temps[1],\n",
    "            temps[2],\n",
    "            temps[3])\n",
    "   \n",
    "temps = secondeEnTemps(int(time.mktime(time.gmtime())))\n",
    "#afficheTemps(temps)\n",
    "afficheDate(tempsEnDateBisextile(temps))"
   ]
  },
  {
   "cell_type": "markdown",
   "metadata": {},
   "source": [
    "Ajouter des valeurs par défaut dans le code de `afficheDate` afin de pouvoir ommettre\n",
    "l'argument de ces fonctions. Dans ce cas là, on affichera la date actuelle en utilisant la fonction `time`."
   ]
  },
  {
   "cell_type": "markdown",
   "metadata": {},
   "source": [
    "On va maintenant inspecter notre code pour améliorer sa qualité:\n",
    "\n",
    "* Regarder tous les warnings donnés par flake8 et essayer de les régler.\n",
    "* Utiliser le debugger (F5) pour étudier le fonctionnement de votre fonction nombreBisextile.\n",
    "* Mettre les annotations de type des arguments et du retour de la fonction pour nombreBisextile et une autre fonction de votre choix. Vérifier avec mypy que tout fonctionne bien."
   ]
  },
  {
   "cell_type": "markdown",
   "metadata": {},
   "source": [
    "Donner une fonction qui vérifie la charge horaire d'un employé, donnée sous forme d'une liste de temps travaillé chaque semaine dans un mois. Il ne faut pas dépasser 48h par semaine et 140h par mois (qu'on considère ici de 4 semaines).\n",
    "\n",
    "(Optionnel) S'adapter à une liste qui peut contenir plusieurs mois."
   ]
  },
  {
   "cell_type": "code",
   "execution_count": null,
   "metadata": {},
   "outputs": [],
   "source": [
    "def verifie(liste_temps):\n",
    "    pass\n",
    "\n",
    "\n",
    "liste_temps = [[1,2,39,34],[0,1,9,4],[0,29,39,51],[0,31,13,46]]\n",
    "verifie(liste_temps)"
   ]
  },
  {
   "cell_type": "code",
   "execution_count": null,
   "metadata": {},
   "outputs": [],
   "source": []
  }
 ],
 "metadata": {
  "kernelspec": {
   "display_name": "Python 3",
   "language": "python",
   "name": "python3"
  },
  "language_info": {
   "codemirror_mode": {
    "name": "ipython",
    "version": 3
   },
   "file_extension": ".py",
   "mimetype": "text/x-python",
   "name": "python",
   "nbconvert_exporter": "python",
   "pygments_lexer": "ipython3",
   "version": "3.8.5-final"
  }
 },
 "nbformat": 4,
 "nbformat_minor": 4
}