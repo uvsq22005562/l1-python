{
 "cells": [
  {
   "cell_type": "markdown",
   "metadata": {
    "slideshow": {
     "slide_type": "slide"
    }
   },
   "source": [
    "# TD 2: Les structures de contrôle\n",
    "\n",
    "---\n",
    "\n",
    "## 0. Récupération des nouveaux documents\n",
    "\n",
    "\n",
    "Les sujets de TD ainsi que les supports de cours sont publiés en ligne au fur et à mesure sur l'espace github original [https://github.com/uvsq-info/l1-python](https://github.com/uvsq-info/l1-python). Au moment où vous avez fait le fork de cet espace sur votre espace personnel, il est probable que tous les contenus n'étaient pas présents. Pour compléter votre espace, deux solutions sont possibles:\n",
    "\n",
    "1. en ligne de commande dans le terminal, en suivant la procédure de la section *Intégrer les mises à jour du projet original* du fichier [README.md](https://github.com/uvsq-info/l1-python/blob/master/README.md#int%C3%A9grer-les-mises-%C3%A0-jour-du-projet-original)\n",
    "2. aller sur la page du projet original [https://github.com/uvsq-info/l1-python](https://github.com/uvsq-info/l1-python), et cliquer sur le bouton vert `Code` en haut à droite. Choisir `download ZIP`, puis extraire l'ensemble des nouveaux fichiers vers votre projet personnel local. Vous pouvez ensuite sauvegarder ces ajouts dans votre espace github personnel en suivant la procédure habituelle.\n"
   ]
  },
  {
   "cell_type": "markdown",
   "metadata": {
    "slideshow": {
     "slide_type": "slide"
    }
   },
   "source": [
    "---\n",
    "\n",
    "## 1. Premiers exercices avec les structures conditionnelles\n",
    "\n",
    "**Exercice 1:**\n",
    "\n",
    "1. Soit *num1 = 15* et *num2 = 5*. Ecrire un programme qui affiche *Factors!* si l'un des nombres est un facteur de l'autre (c'est-à-dire qu'il divise l'autre nombre). Si aucun des nombres n'est un facteur de l'autre, le programme n'affiche rien.\n",
    "2. Changer le code que vous avez écrit de telle sorte qu'il affiche toujours *Factors!* si un nombre est un facteur de l'autre, mais qui affiche aussi *Not factors!* si aucun des nombres n'est un facteur de l'autre."
   ]
  },
  {
   "cell_type": "code",
   "execution_count": 12,
   "metadata": {
    "slideshow": {
     "slide_type": "notes"
    },
    "tags": []
   },
   "outputs": [
    {
     "output_type": "stream",
     "name": "stdout",
     "text": "Factors\n"
    }
   ],
   "source": [
    "num1 = 25\n",
    "num2 = 5\n",
    "a = num1 // num2\n",
    "b = a * num2\n",
    "if b == num1 :\n",
    "    print (\"Factors\")\n",
    "else :\n",
    "    print (\"FUCK !\")"
   ]
  },
  {
   "cell_type": "markdown",
   "metadata": {
    "slideshow": {
     "slide_type": "slide"
    }
   },
   "source": [
    "**Exercice 2:**\n",
    "    \n",
    "Soit *state = \"Georgia\"*. Ecrire un programme qui permet d'afficher un message spécifique en fonction de la variable *state* :  \n",
    "* \"School isn't cancelled.\" si nous sommes à New Jersey,  \n",
    "* \"School is postponed.\" si nous sommes à North Carolina,\n",
    "* \"School is cancelled!\" si nous sommes à Georgia,  \n",
    "* \"School's status is unknown\" si nous ne sommes pas dans un des trois états précédemment mentionnés."
   ]
  },
  {
   "cell_type": "code",
   "execution_count": 13,
   "metadata": {
    "slideshow": {
     "slide_type": "notes"
    },
    "tags": []
   },
   "outputs": [
    {
     "output_type": "stream",
     "name": "stdout",
     "text": "School is cancelled!\n"
    }
   ],
   "source": [
    "state = \"Georgia\"\n",
    "if state == (\"Jersey\"):\n",
    "    print(\"School isn't cancelled.\")\n",
    "elif state == (\"North Carolina\"):\n",
    "    print(\"School is postponed.\")\n",
    "elif state == (\"Georgia\"):\n",
    "    print(\"School is cancelled!\")\n",
    "else :\n",
    "    print(\"School's status is unknown\")"
   ]
  },
  {
   "cell_type": "markdown",
   "metadata": {
    "slideshow": {
     "slide_type": "slide"
    }
   },
   "source": [
    "**Exercice 3:**\n",
    "\n",
    "Ecrire un programme pour découvrir le signe du zodiaque chinois pour une année donnée. Le signe du zodiaque chinois est basé sur un cycle de 12 ans et chaque année de ce cycle est représentée par un animal :\n",
    "* 0: monkey\n",
    "* 1: rooster\n",
    "* 2: dog\n",
    "* 3: pig\n",
    "* 4: rat\n",
    "* 5: ox\n",
    "* 6: tiger\n",
    "* 7: rabbit\n",
    "* 8: dragon\n",
    "* 9: snake\n",
    "* 10: horse\n",
    "* 11: sheep\n",
    "\n",
    "La valeur de l'année % 12 détermine le signe du zodiaque. Par exemple, 1900 est l'année du *rat* puisque 1900 % 12 est 4."
   ]
  },
  {
   "cell_type": "code",
   "execution_count": 28,
   "metadata": {
    "slideshow": {
     "slide_type": "notes"
    },
    "tags": []
   },
   "outputs": [
    {
     "output_type": "stream",
     "name": "stdout",
     "text": "snake\n"
    }
   ],
   "source": [
    "A = int(input(\"entrez l'année de votre naissance svp\"))\n",
    "B = A%12\n",
    "C = [\"monkey\",\"rooster\",\"dog\",\"pig\",\"rat\",\"ox\",\"tiger\",\"rabbit\",\"dragon\",\"snake\",\"horse\",\"sheep\"]\n",
    "print(C[B])"
   ]
  },
  {
   "cell_type": "markdown",
   "metadata": {
    "slideshow": {
     "slide_type": "slide"
    }
   },
   "source": [
    "**Exercice 4:**\n",
    "\n",
    "Soit *temperature = -3.7* et *celsius = True*. *celsius* est une variable booléenne qui indique si la température est en Celsius; si c'est *False*, alors la température donnée est en Fahrenheit. Ecrire un premier programme en utilisant *if-else* seulement qui permet d'afficher *Freezing* si les valeurs données représentent une température très basse, et *Not freezing* si ce n'est pas le cas. En Celsius, on considère qu'il fait très froid lorsque la température est inférieure ou égale à 0 degré. En Fahrenheit, on considère qu'il fait très froid lorsque la température est inférieure ou égale à 32 degrés. Proposer une seconde solution en utilisant *if-elif-else* à ce même problème."
   ]
  },
  {
   "cell_type": "code",
   "execution_count": 29,
   "metadata": {
    "slideshow": {
     "slide_type": "notes"
    },
    "tags": []
   },
   "outputs": [
    {
     "output_type": "stream",
     "name": "stdout",
     "text": "il fait froid\n"
    }
   ],
   "source": [
    "température = -3.7\n",
    "celsius = True\n",
    "if celsius == True :\n",
    "    if température < 0 :\n",
    "        print (\"il fait froid\")\n",
    "    else :\n",
    "        print (\"c'est carré\")\n",
    "elif fahrenheit == True :\n",
    "    if température < 32 :\n",
    "        print (\"il fait froid\")\n",
    "    else :\n",
    "        print (\"c'est carré\")"
   ]
  },
  {
   "cell_type": "markdown",
   "metadata": {
    "slideshow": {
     "slide_type": "slide"
    }
   },
   "source": [
    "**Exercice 5:**\n",
    "    \n",
    "Ecrire un programme qui permet de déterminer si une année est bissextile ou non en utilisant une seule instruction *if-else*. Une année *A* est bissextile si *A* est divisible par 4. Elle ne l’est cependant pas si *A* est un multiple\n",
    "de 100, à moins que *A* ne soit multiple de 400.    "
   ]
  },
  {
   "cell_type": "code",
   "execution_count": 33,
   "metadata": {
    "slideshow": {
     "slide_type": "notes"
    },
    "tags": []
   },
   "outputs": [
    {
     "output_type": "stream",
     "name": "stdout",
     "text": "pas bisextile\n"
    }
   ],
   "source": [
    "A = int(input(\"entre l'année de votre choix je vous prie\"))\n",
    "\n",
    "if A%4 == 0 and A%100 != 0 or A%4 == 0 and A%100 == 0 and A%400 ==0 :\n",
    "    print(\"bisextile\")\n",
    "else :\n",
    "    print (\"pas bisextile\")"
   ]
  },
  {
   "source": [
    "---\n",
    "\n",
    "## 2. Premiers exercices avec les structures itératives\n",
    "\n",
    "**Exercice 6:**\n",
    "\n",
    "1. Ecrire un programme qui permet d'afficher tous les nombres entre 1 et 10 (bornes incluses).\n",
    "2. Ecrire un programme se limitant à la boucle *for* qui permet d'afficher tous les nombres pairs entre 1 et 20 (bornes incluses). Proposer une deuxième solution en incluant une structure conditionnelle."
   ],
   "cell_type": "markdown",
   "metadata": {}
  },
  {
   "cell_type": "code",
   "execution_count": 48,
   "metadata": {
    "tags": []
   },
   "outputs": [
    {
     "output_type": "stream",
     "name": "stdout",
     "text": [
      "1\n2\n3\n4\n5\n6\n7\n8\n9\n10\n11\n12\n13\n14\n15\n16\n17\n18\n19\n20\n"
     ]
    }
   ],
   "source": [
    "#solution 1\n",
    "for i in range (1,21):\n",
    "    print(i)"
   ]
  },
  {
   "source": [
    "**Exercice 7:**\n",
    "    \n",
    "1. Ecrire un programme qui demande à l'utilisateur de saisir *n* nombres, *n* étant choisi par l'utilisateur, puis d'afficher la moyenne de ces nombres.\n",
    "\n",
    "2. Même question, mais l'utilisateur ne choisit pas à l'avance le nombre *n*, la procédure s'arrête quand il saisit le nombre -1.\n"
   ],
   "cell_type": "markdown",
   "metadata": {}
  },
  {
   "cell_type": "code",
   "execution_count": 1,
   "metadata": {
    "tags": []
   },
   "outputs": [
    {
     "output_type": "stream",
     "name": "stdout",
     "text": [
      "le premier nombre choisi est 3\n",
      "le premier nombre choisi est 6\n",
      "le premier nombre choisi est 32\n",
      "le premier nombre choisi est 137\n",
      "le premier nombre choisi est -237\n",
      "moyenne de vos chiffres : -11.8\n"
     ]
    }
   ],
   "source": [
    "N = int(input(\"combien de chiffres ? \"))\n",
    "C = 0\n",
    "for i in range(1, N+1):\n",
    "    D = int(input(\"chiffre\"))\n",
    "    print(\"le premier nombre choisi est\", D)\n",
    "    C = C + D\n",
    "moyenne = C/N\n",
    "print (\"moyenne de vos chiffres :\",moyenne)"
   ]
  },
  {
   "cell_type": "code",
   "execution_count": 29,
   "metadata": {},
   "outputs": [
    {
     "output_type": "stream",
     "name": "stdout",
     "text": [
      "le premier nombre choisi est 2\n",
      "le premier nombre choisi est 1\n",
      "le premier nombre choisi est 2\n",
      "le premier nombre choisi est 1\n",
      "le premier nombre choisi est 2\n",
      "le premier nombre choisi est 1\n",
      "le premier nombre choisi est 2\n",
      "le premier nombre choisi est 1\n",
      "le premier nombre choisi est 2\n",
      "le premier nombre choisi est 1\n",
      "moyenne de vos chiffres : 1.5\n"
     ]
    }
   ],
   "source": [
    "N = 10\n",
    "C = 0\n",
    "for i in range(1, N+1):\n",
    "    D = int(input(\"chiffre\"))\n",
    "    if D == -1 :\n",
    "        i = i-1\n",
    "        break\n",
    "    else :\n",
    "        print(\"le premier nombre choisi est\", D)\n",
    "        C = C + D\n",
    "moyenne = C/int(i)\n",
    "print (\"moyenne de vos chiffres :\",moyenne)"
   ]
  },
  {
   "source": [
    "**Exercice 8:**\n",
    "\n",
    "Ecrire un programme qui permet de calculer le factoriel d'un nombre positif donné par l'utlisateur selon la formule suivante : \n",
    "n! = 1 x 2 x ... x n.  \n",
    "\n",
    "1. Une première version en utilisant la boucle *for*\n",
    "2. Une seconde version en utilisant la boucle *while*"
   ],
   "cell_type": "markdown",
   "metadata": {}
  },
  {
   "cell_type": "code",
   "execution_count": 45,
   "metadata": {
    "tags": []
   },
   "outputs": [
    {
     "output_type": "stream",
     "name": "stdout",
     "text": [
      "2\n6\n24\n120\n720\n5040\n40320\n362880\n3628800\n39916800\n479001600\n6227020800\n87178291200\n1307674368000\n20922789888000\n355687428096000\n6402373705728000\n121645100408832000\n2432902008176640000\n===============\nrésultat final : 2432902008176640000\n"
     ]
    }
   ],
   "source": [
    "n = int(input(\"choisissez un nombre\"))\n",
    "Résultat = 1\n",
    "for i in range (2,n):\n",
    "    Résultat *= i\n",
    "    print(Résultat)\n",
    "print (\"===============\")\n",
    "print (\"résultat final :\",Résultat)"
   ]
  },
  {
   "cell_type": "code",
   "execution_count": 44,
   "metadata": {
    "tags": []
   },
   "outputs": [
    {
     "output_type": "stream",
     "name": "stdout",
     "text": [
      "2\n6\n24\n120\n720\n5040\n40320\n362880\n3628800\n39916800\n479001600\n6227020800\n87178291200\n1307674368000\n20922789888000\n355687428096000\n6402373705728000\n121645100408832000\n2432902008176640000\n===============\nrésultat final : 2432902008176640000\n"
     ]
    }
   ],
   "source": [
    "n = int(input(\"choisissez un nombre\"))\n",
    "control = 2\n",
    "Résultat = 1\n",
    "while control != n :\n",
    "    Résultat *= control\n",
    "    control += 1\n",
    "    print(Résultat)\n",
    "print (\"===============\")\n",
    "print (\"résultat final :\",Résultat)"
   ]
  },
  {
   "cell_type": "markdown",
   "metadata": {
    "slideshow": {
     "slide_type": "slide"
    }
   },
   "source": [
    "---\n",
    "\n",
    "## 3. Pour aller plus loin\n",
    "\n",
    "**Excercice 9:**\n",
    "\n",
    "Ecrire un programme qui permet de connaître le jour de naissance de l'utilisateur en posant cinq questions.\n",
    "Chaque question demande si le jour est dans l'un des cinq ensembles suivants :\n",
    "\n",
    "* Set 1: [1 3 5 7 9 11 13 15 17 19 21 23 25 27 29 31]\n",
    "* Set 2: [2 3 6 7 10 11 14 15 18 19 22 23 26 27 30 31]\n",
    "* Set 3: [4 5 6 7 12 13 14 15 20 21 22 23 28 29 30 31]\n",
    "* Set 4: [8 9 10 11 12 13 14 15 24 25 26 27 28 29 30 31]\n",
    "* Set 5: [16 17 18 19 20 21 22 23 24 25 26 27 28 29 30 31]\n",
    "    \n",
    "\n",
    "Le jour de naissance est la somme des premiers nombres dans les ensembles où le jour apparaît. Par exemple,\n",
    "si le jour de naissance est 19, il apparaît dans Set 1, Set 2 et Set 5. Les premiers chiffres de ces trois ensembles sont 1, 2 et 16. Leur somme est 19."
   ]
  },
  {
   "cell_type": "code",
   "execution_count": 48,
   "metadata": {
    "slideshow": {
     "slide_type": "notes"
    }
   },
   "outputs": [
    {
     "output_type": "stream",
     "name": "stdout",
     "text": [
      "votre jour de naissance est-il dans cette liste ? : 1 3 5 7 9 11 13 15 17 19 21 23 25 27 29 31 \n",
      "votre jour de naissance est-il dans cette liste ? : 2 3 6 7 10 11 14 15 18 19 22 23 26 27 30 31 \n",
      "votre jour de naissance est-il dans cette liste ? : 4 5 6 7 12 13 14 15 20 21 22 23 28 29 30 31 \n",
      "votre jour de naissance est-il dans cette liste ? : 8 9 10 11 12 13 14 15 24 25 26 27 28 29 30 31 \n",
      "votre jour de naissance est-il dans cette liste ? : 16 17 18 19 20 21 22 23 24 25 26 27 28 29 30 31 \n",
      "vous êtes né le : 3\n"
     ]
    }
   ],
   "source": [
    "calcul = 0\n",
    "print (\"votre jour de naissance est-il dans cette liste ? : 1 3 5 7 9 11 13 15 17 19 21 23 25 27 29 31 \")\n",
    "A = int(input(\"tapez 1 pour oui, et 2 pour non\"))\n",
    "if A == 1 :\n",
    "    calcul += 1\n",
    "print (\"votre jour de naissance est-il dans cette liste ? : 2 3 6 7 10 11 14 15 18 19 22 23 26 27 30 31 \")\n",
    "B = int(input(\"tapez 1 pour oui, et 2 pour non\"))\n",
    "if B == 1 :\n",
    "    calcul += 2\n",
    "print (\"votre jour de naissance est-il dans cette liste ? : 4 5 6 7 12 13 14 15 20 21 22 23 28 29 30 31 \")\n",
    "C = int(input(\"tapez 1 pour oui, et 2 pour non\"))\n",
    "if C == 1 :\n",
    "    calcul += 4\n",
    "print (\"votre jour de naissance est-il dans cette liste ? : 8 9 10 11 12 13 14 15 24 25 26 27 28 29 30 31 \")\n",
    "D = int(input(\"tapez 1 pour oui, et 2 pour non\"))\n",
    "if D == 1 :\n",
    "    calcul += 8\n",
    "print (\"votre jour de naissance est-il dans cette liste ? : 16 17 18 19 20 21 22 23 24 25 26 27 28 29 30 31 \")\n",
    "E = int(input(\"tapez 1 pour oui, et 2 pour non\"))\n",
    "if E == 1 :\n",
    "    calcul += 16\n",
    "print(\"vous êtes né le :\",calcul)\n",
    "\n"
   ]
  },
  {
   "cell_type": "markdown",
   "metadata": {
    "slideshow": {
     "slide_type": "slide"
    }
   },
   "source": [
    "**Excercice 10:**\n",
    "\n",
    "Ecrire un programme qui permet de génèrer de manière aléatoire un nombre à deux chiffres, invite l'utilisateur à saisir un nombre à deux chiffres et détermine si l'utilisateur gagne selon les règles suivantes :\n",
    "* Si l'entrée de l'utilisateur correspond à la loterie (le nombre généré aléatoirement) dans l'ordre exact, la récompense est de 10 000€.\n",
    "* Sinon, si les deux chiffres entrés par l'utilisateur correspondent aux deux chiffres du numéro de loterie, la récompense est de 3 000€.\n",
    "* Sinon, si un chiffre dans l'entrée de l'utilisateur correspond à un chiffre dans le numéro de loterie, la récompense est de 1 000€.\n",
    "\n",
    "**Astuce :** Utiliser la fonction **random.randint(0, 99)** pour génèrer de manière aléatoire un nombre à deux chiffres. Cette fonction doit être accompagné par **import random** comme première instruction dans le code."
   ]
  },
  {
   "cell_type": "code",
   "execution_count": 1,
   "metadata": {
    "slideshow": {
     "slide_type": "notes"
    }
   },
   "outputs": [
    {
     "output_type": "stream",
     "name": "stdout",
     "text": [
      "Le nombre mystère était : 63\nOr vous avez choisi le nombre : 32\n=============================\n=============================\nVous gagnez donc : 1000 euros !\n"
     ]
    }
   ],
   "source": [
    "#Appel des variables\n",
    "import random\n",
    "nombre_mystere = int(random.randint(0,99))\n",
    "score = 0\n",
    "\n",
    "#Correction des erreurs du a un nombre a un seul chiffre pour le nombre aléatoire\n",
    "if nombre_mystere < 10 :\n",
    "    nombre_mystere = str(nombre_mystere)\n",
    "    dizaine_mystere = \"0\"\n",
    "    unite_mystere = str(nombre_mystere)\n",
    "else :\n",
    "    nombre_mystere = str(nombre_mystere)\n",
    "    dizaine_mystere = nombre_mystere[0]\n",
    "    unite_mystere = nombre_mystere[1]\n",
    "\n",
    "#Correction des erreurs du a un nombre a un seul chiffre pour le choix du jouer\n",
    "choix = int(input(\"entrez votre nombre compris entre 0 et 99\"))\n",
    "if choix < 10 :\n",
    "    choix = str(choix)\n",
    "    dizaine_choix = \"0\"\n",
    "    unite_choix = str(choix)\n",
    "else :\n",
    "    choix = str(choix)\n",
    "    dizaine_choix = choix[0]\n",
    "    unite_choix = choix[1]\n",
    "\n",
    "#Analyse des listes pour déterminer le score du joueur\n",
    "if nombre_mystere == choix :\n",
    "    score += 10000\n",
    "elif unite_choix in nombre_mystere and dizaine_choix in nombre_mystere :\n",
    "    score += 3000\n",
    "elif unite_choix in nombre_mystere or dizaine_choix in nombre_mystere :\n",
    "    score += 1000\n",
    "else :\n",
    "    score = 0\n",
    "\n",
    "#affichage des résultats\n",
    "print(\"Le nombre mystère était :\", nombre_mystere)\n",
    "print(\"Or vous avez choisi le nombre :\", choix)\n",
    "print(\"=============================\")\n",
    "print(\"=============================\")\n",
    "print(\"Vous gagnez donc :\", score, \"euros !\")"
   ]
  },
  {
   "source": [
    "**Exercice 11:**\n",
    "    \n",
    "Ecrire un programme qui permet de calculer la somme des chiffres d'un entier *n* donné. Le nombre *n* doit être compris entre 10 et 20 (bornes incluses)."
   ],
   "cell_type": "markdown",
   "metadata": {}
  },
  {
   "cell_type": "code",
   "execution_count": 39,
   "metadata": {},
   "outputs": [
    {
     "output_type": "stream",
     "name": "stdout",
     "text": [
      "la somme des chiffre de votre entier : 4\n"
     ]
    }
   ],
   "source": [
    "n = str(input(\"écrivez un entier entre 10 et 20\"))\n",
    "n_part1 = n[0]\n",
    "n_part2 = n[1]\n",
    "somme = int(n_part1)+int(n_part2)\n",
    "print(\"la somme des chiffre de votre entier :\", somme)"
   ]
  },
  {
   "source": [
    "**Exercice 12:**\n",
    "\n",
    "1. Ecrire un programme qui permet de générer aléatoirement deux nombres entre 0 et 9, de calculer leurs différences (en valeur absolue), puis d'inviter l'utilisateur à répondre à la question suivante *que vaut abs(number1 - number2)?*. Le programme doit permettre à l'utilisateur de répondre plusieurs fois jusqu'à la saisie de la bonne réponse.\n",
    "2. Modifier le programme précédent de telle sorte qu'il génère cinq occurences à la suite invitant à répondre à la question précédente. A la fin, le programme affiche le nombre moyen de tentatives qu'il a fallu à l'utilisateur pour répondre à une question."
   ],
   "cell_type": "markdown",
   "metadata": {}
  },
  {
   "cell_type": "code",
   "execution_count": 44,
   "metadata": {
    "tags": []
   },
   "outputs": [
    {
     "output_type": "stream",
     "name": "stdout",
     "text": [
      "bravo, la différence de 4 et 8 est 4\n"
     ]
    }
   ],
   "source": [
    "import random\n",
    "chiffre1 = random.randint(0, 9)\n",
    "chiffre2 = random.randint(0, 9)\n",
    "question = chiffre1 - chiffre2\n",
    "reponse = 0\n",
    "\n",
    "if question < 0 :\n",
    "    question = question * -1\n",
    "\n",
    "while reponse != 1 :\n",
    "    choix = int(input(\"devinez la différence des deux nombres\"))\n",
    "    if choix == question :\n",
    "        reponse += 1\n",
    "        print (\"bravo, la différence de\", chiffre1, \"et\", chiffre2, \"est\", choix)\n",
    "    else :\n",
    "        print(\"faux, veuillez recommencer\")\n",
    "\n"
   ]
  },
  {
   "cell_type": "code",
   "execution_count": 45,
   "metadata": {
    "tags": []
   },
   "outputs": [
    {
     "output_type": "stream",
     "name": "stdout",
     "text": [
      "bravo, la différence de 2 et 0 est 2\n",
      "faux, veuillez recommencer\n",
      "bravo, la différence de 4 et 0 est 4\n",
      "faux, veuillez recommencer\n",
      "faux, veuillez recommencer\n",
      "faux, veuillez recommencer\n",
      "faux, veuillez recommencer\n",
      "faux, veuillez recommencer\n",
      "faux, veuillez recommencer\n",
      "faux, veuillez recommencer\n",
      "faux, veuillez recommencer\n",
      "faux, veuillez recommencer\n",
      "faux, veuillez recommencer\n",
      "bravo, la différence de 3 et 2 est 1\n",
      "faux, veuillez recommencer\n",
      "bravo, la différence de 4 et 7 est 3\n",
      "faux, veuillez recommencer\n",
      "faux, veuillez recommencer\n",
      "faux, veuillez recommencer\n",
      "faux, veuillez recommencer\n",
      "bravo, la différence de 8 et 9 est 1\n",
      "trouver la bonne réponse vous a pris en moyenne 4.2 tentatives\n"
     ]
    }
   ],
   "source": [
    "import random\n",
    "tentative = 0\n",
    "for i in range(0, 5):\n",
    "    chiffre1 = random.randint(0, 9)\n",
    "    chiffre2 = random.randint(0, 9)\n",
    "    question = chiffre1 - chiffre2\n",
    "    reponse = 0\n",
    "\n",
    "    if question < 0 :\n",
    "        question = question * -1\n",
    "\n",
    "    while reponse != 1 :\n",
    "        choix = int(input(\"devinez la différence des deux nombres\"))\n",
    "        if choix == question :\n",
    "            reponse += 1\n",
    "            print (\"bravo, la différence de\", chiffre1, \"et\", chiffre2, \"est\", choix)\n",
    "            tentative +=1\n",
    "        else :\n",
    "            print(\"faux, veuillez recommencer\")\n",
    "            tentative +=1\n",
    "moyenne = tentative/5\n",
    "print(\"trouver la bonne réponse vous a pris en moyenne\", moyenne, \"tentatives\")"
   ]
  },
  {
   "source": [
    "**Exercice 13:**\n",
    "\n",
    "Ecrire un programme qui permet de calculer le nombre de mots dans une phrase saisie par l'utilisateur."
   ],
   "cell_type": "markdown",
   "metadata": {}
  },
  {
   "cell_type": "code",
   "execution_count": 6,
   "metadata": {
    "tags": []
   },
   "outputs": [
    {
     "output_type": "stream",
     "name": "stdout",
     "text": [
      "7\n"
     ]
    }
   ],
   "source": [
    "phrase = str(input(\"écrivez une phrase\"))\n",
    "mots = 1\n",
    "for i in range(0,len(phrase)):\n",
    "    if phrase[i] != \" \":\n",
    "        continue\n",
    "    elif phrase[i] == \" \": \n",
    "        mots += 1\n",
    "print(mots)\n"
   ]
  },
  {
   "cell_type": "markdown",
   "metadata": {
    "slideshow": {
     "slide_type": "slide"
    }
   },
   "source": [
    "---\n",
    "\n",
    "## 4. Pour s'entraîner\n",
    "\n",
    "**Exercice 14:**\n",
    "    \n",
    "Soit la variable my_input = \"zoophysiology\". Ecrire un script qui permet d'afficher l'un des messages suivants en fonction du nombre maximum de *o* consécutifs dans la variable *my_input*. Par exemple, le script doit afficher \"I like studying birds! I want to become an ornithologist!\" parce qu'il y a deux *o* consécutifs, même s'il y a aussi des *o* individual.\n",
    "Ignorer les *o* majuscules - recherchez que les *o* minuscules.\n",
    "\n",
    "* Si \"o\" apparaît trois fois ou plus de suite, afficher le message \"I like going to the zoo!\"  \n",
    "* Si \"o\" apparaît deux fois, afficher le message \"I like studying birds! I want to become an ornithologist!\"  \n",
    "* Si \"o\" apparaît une seule fois, afficher le message \"I like studying fish! I want to become an ichthyologist!\"  \n",
    "* Si \"o\" n'apparaît pas dans la variable *my_input*, afficher le message \"I miss going to the zoo!\"  \n",
    "\n",
    "**Astuce :** Utiliser l'opérateur **in** qui renvoie **True** si la première chaîne se trouve dans la deuxième chaîne. "
   ]
  },
  {
   "cell_type": "code",
   "execution_count": 9,
   "metadata": {
    "slideshow": {
     "slide_type": "notes"
    }
   },
   "outputs": [
    {
     "output_type": "stream",
     "name": "stdout",
     "text": [
      "I miss going to the zoo!\n4\n1\n"
     ]
    }
   ],
   "source": [
    "my_input = \"zoophysiology\"\n",
    "nombre_o = 0\n",
    "o_follow = 0\n",
    "for i in range(0, len(my_input)):\n",
    "    if my_input[i] == \"o\" and my_input[i+1] == \"o\" :\n",
    "        o_follow += 1\n",
    "        nombre_o += 1\n",
    "    elif my_input[i] == \"o\" :\n",
    "        nombre_o += 1\n",
    "\n",
    "if o_follow >= 3 :\n",
    "    print(\"I like going to the zoo!\")\n",
    "elif nombre_o == 2 :\n",
    "    print(\"I like studying birds! I want to become an ornithologist!\")\n",
    "elif nombre_o == 1 :\n",
    "    print(\"I like studying fish! I want to become an ichthyologist!\")\n",
    "else :\n",
    "    print(\"I miss going to the zoo!\")\n",
    "\n",
    "\n",
    "\n",
    "#print(nombre_o)\n",
    "#print(o_follow)\n"
   ]
  },
  {
   "cell_type": "markdown",
   "metadata": {
    "slideshow": {
     "slide_type": "slide"
    }
   },
   "source": [
    "**Exercice 15:**\n",
    "    \n",
    "Créer quatre variables nommées *team_1* et *team_2*, représentant deux noms d'équipes, et *team_1_score* et *team_2_score*, représentant les scores de ces deux équipes. \n",
    "Une équipe gagne si son score est supérieur à l'autre score de l'autre équipe.\n",
    " \n",
    "Ecrire un premier script qui permet d'afficher les messages suivants selon les valeurs entrées, ceci en utilisant seulement les quatres variables créées :\n",
    "* Si une équipe bat l'autre, affichez: \"[winner] beat [loser] by [margin]\"\n",
    "* Si aucune des équipes n'a gagné, affichez: \"[team_1] played [team_2] and it was a tie\"\n",
    "\n",
    "Ecrire un deuxième script qui permet d'afficher les mêmes messages mais en ajoutant trois variables de plus :\n",
    "* La variable *winner* pour définir l'équipe gagnante  \n",
    "* La variable *loser* pour définier l'équipe perdante  \n",
    "* La variable *margin* pour définir la différence entre les deux scores \n"
   ]
  },
  {
   "cell_type": "code",
   "execution_count": null,
   "metadata": {
    "slideshow": {
     "slide_type": "notes"
    }
   },
   "outputs": [],
   "source": [
    "team_1 = 0\n",
    "team_2 = 0\n",
    "team_1_score = 0\n",
    "team_2_score = 0\n",
    "\n",
    "if team_1_score > team_2_score :\n",
    "    print(team_1,\"beat\", team_2, \"by\", (team_1_score - team_2_score))\n",
    "elif team_1_score == team_2_score :\n",
    "    print(team_1,\"played\", team_2, \"and it was a tie\")\n",
    "else :\n",
    "    print(team_2,\"beat\", team_1, \"by\", (team_2_score - team_1_score))"
   ]
  },
  {
   "cell_type": "code",
   "execution_count": null,
   "metadata": {
    "slideshow": {
     "slide_type": "notes"
    }
   },
   "outputs": [],
   "source": []
  },
  {
   "cell_type": "markdown",
   "metadata": {
    "slideshow": {
     "slide_type": "slide"
    }
   },
   "source": [
    "**Exercice 16:**\n",
    "    \n",
    "L'Indice de Masse Corporelle (IMC) permet d'estimer le poids idéal en fonction de la taille. Son calcul correspond au poids en kilogrammes divisé par le carré de la taille en mètre (IMC = poids en kg/taille² en m). Le chiffre obtenu permet d'estimer la corpulence et éventuellement le surpoids ou l'obésité chez l'adulte, homme ou femme.\n",
    "L'interprétation de l'IMC pour les personnes de 16 ans et plus est la suivante :\n",
    "* Moins de 18.5: Underweight\n",
    "* Entre 18.5 et 24.9: Normal\n",
    "* Entre 25.0 et 29.9: Overweight\n",
    "* Plus que 30.0: Obese\n",
    "\n",
    "Ecrire un programme qui permet de saisir un poids en *pounds* et une taille en *inches*, de calculer et d'afficher l'IMC à deux valeurs après la virgule, et d'afficher l'interprétation la plus adéquate. Notez qu'un *pound* équivaut à 0,45359237 kilogrammes et qu'un *inch* équivaut à 0,0254 mètre.  \n",
    "\n",
    "**Astuce :** Pour afficher deux valeurs après la virgule, utilisez la fonction **format(nom_variable, \".2f\")**. Exemple : **print('La moyenne est :', format(moyenne, \".2f\"))**"
   ]
  },
  {
   "cell_type": "code",
   "execution_count": null,
   "metadata": {
    "slideshow": {
     "slide_type": "notes"
    }
   },
   "outputs": [],
   "source": []
  },
  {
   "source": [
    "**Exercice 17:**\n",
    "\n",
    "Ecrire un programme qui affiche un triangle d'étoiles de taille donnée, par exemple si on entre 6, le programme affiche:\n",
    "```\n",
    "*\n",
    "**\n",
    "***\n",
    "****\n",
    "*****\n",
    "******\n",
    "```"
   ],
   "cell_type": "markdown",
   "metadata": {}
  },
  {
   "cell_type": "code",
   "execution_count": 46,
   "metadata": {
    "tags": []
   },
   "outputs": [
    {
     "output_type": "stream",
     "name": "stdout",
     "text": [
      "*\n**\n***\n****\n*****\n******\n"
     ]
    }
   ],
   "source": [
    "A = \"*\"\n",
    "for i in range (1,7):\n",
    "    print(A*i)"
   ]
  },
  {
   "source": [
    "**Exercice 18:**\n",
    "\n",
    "Même exercice mais cette fois la sortie est\n",
    "```\n",
    "     *\n",
    "    **         \n",
    "   ***\n",
    "  ****\n",
    " *****\n",
    "******\n",
    "```"
   ],
   "cell_type": "markdown",
   "metadata": {}
  },
  {
   "cell_type": "code",
   "execution_count": 48,
   "metadata": {
    "tags": []
   },
   "outputs": [
    {
     "output_type": "stream",
     "name": "stdout",
     "text": [
      "      *\n     **\n    ***\n   ****\n  *****\n ******\n"
     ]
    }
   ],
   "source": [
    "A = \"*\"\n",
    "B = \" \"\n",
    "for i in range (1,7):\n",
    "    print(B*(7-i)+A*i)"
   ]
  },
  {
   "source": [
    "**Exercice 19:**\n",
    "\n",
    "Ecrire un programme qui calcule, étant donné un entier *n* rentré par l'utilisateur, la plus grande puissance de *n* inférieure à un million."
   ],
   "cell_type": "markdown",
   "metadata": {}
  },
  {
   "cell_type": "code",
   "execution_count": 54,
   "metadata": {
    "tags": []
   },
   "outputs": [
    {
     "output_type": "stream",
     "name": "stdout",
     "text": [
      "la plus grande puissance de 41 inférieur a un million est 3\n41 puissance 3 est égal a 68921\n"
     ]
    }
   ],
   "source": [
    "n = int(input(\"choisissez un entier\"))\n",
    "puissance = 0\n",
    "resultat = 0\n",
    "while resultat < 1000000 :\n",
    "    puissance += 1\n",
    "    resultat = n ** puissance\n",
    "print(\"la plus grande puissance de\", n, \"inférieur a un million est\", puissance-1)\n",
    "print(n, \"puissance\", puissance-1, \"est égal a\", n**(puissance-1))\n"
   ]
  },
  {
   "cell_type": "code",
   "execution_count": null,
   "metadata": {},
   "outputs": [],
   "source": []
  }
 ],
 "metadata": {
  "celltoolbar": "Diaporama",
  "kernelspec": {
   "display_name": "Python 3",
   "language": "python",
   "name": "python3"
  },
  "language_info": {
   "codemirror_mode": {
    "name": "ipython",
    "version": 3
   },
   "file_extension": ".py",
   "mimetype": "text/x-python",
   "name": "python",
   "nbconvert_exporter": "python",
   "pygments_lexer": "ipython3",
   "version": "3.8.5-final"
  }
 },
 "nbformat": 4,
 "nbformat_minor": 4
}